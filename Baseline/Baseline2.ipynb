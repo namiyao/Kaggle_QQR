{
 "cells": [
  {
   "cell_type": "raw",
   "metadata": {
    "deletable": true,
    "editable": true
   },
   "source": [
    "Use GoogleNews-vectors-negative300.bin\n",
    "\n",
    "LSTM(64)\n",
    "DENSE(64)\n",
    "weights.003-0.2828.hdf5\n",
    "193s - loss: 0.2478 - acc: 0.8197 - val_loss: 0.2828 - val_acc: 0.7996\n",
    "\n",
    "LSTM(64)\n",
    "DENSE(64)\n",
    "BATCH_SIZE 256 ==> 2048\n",
    "weights.011-0.2908.hdf5\n",
    "63s - loss: 0.2398 - acc: 0.8276 - val_loss: 0.2908 - val_acc: 0.8005\n",
    "\n",
    "LSTM(64)\n",
    "DENSE(64)\n",
    "BATCH_SIZE 256 ==> 64\n",
    "weights.002-0.2822.hdf5\n",
    "759s - loss: 0.2390 - acc: 0.8283 - val_loss: 0.2822 - val_acc: 0.8134\n",
    "\n",
    "LSTM(64)\n",
    "DENSE(64)\n",
    "BATCH_SIZE 256 ==> 32\n",
    "weights.001-0.2812.hdf5\n",
    "1541s - loss: 0.2622 - acc: 0.8065 - val_loss: 0.2812 - val_acc: 0.8008"
   ]
  },
  {
   "cell_type": "raw",
   "metadata": {
    "deletable": true,
    "editable": true
   },
   "source": [
    "import requests\n",
    "\n",
    "def download_file_from_google_drive(id, destination):\n",
    "    URL = \"https://docs.google.com/uc?export=download\"\n",
    "\n",
    "    session = requests.Session()\n",
    "\n",
    "    response = session.get(URL, params = { 'id' : id }, stream = True)\n",
    "    token = get_confirm_token(response)\n",
    "\n",
    "    if token:\n",
    "        params = { 'id' : id, 'confirm' : token }\n",
    "        response = session.get(URL, params = params, stream = True)\n",
    "\n",
    "    save_response_content(response, destination)    \n",
    "\n",
    "def get_confirm_token(response):\n",
    "    for key, value in response.cookies.items():\n",
    "        if key.startswith('download_warning'):\n",
    "            return value\n",
    "\n",
    "    return None\n",
    "\n",
    "def save_response_content(response, destination):\n",
    "    CHUNK_SIZE = 32768\n",
    "\n",
    "    with open(destination, \"wb\") as f:\n",
    "        for chunk in response.iter_content(CHUNK_SIZE):\n",
    "            if chunk: # filter out keep-alive new chunks\n",
    "                f.write(chunk)\n",
    "\n",
    "\n",
    "file_id = '0B7XkCwpI5KDYNlNUTTlSS21pQmM'\n",
    "destination = '../data/GoogleNews-vectors-negative300.bin.gz'\n",
    "download_file_from_google_drive(file_id, destination)"
   ]
  },
  {
   "cell_type": "code",
   "execution_count": 34,
   "metadata": {
    "collapsed": false,
    "deletable": true,
    "editable": true
   },
   "outputs": [],
   "source": [
    "import pandas as pd\n",
    "import numpy as np\n",
    "import nltk\n",
    "from nltk.corpus import stopwords\n",
    "from nltk.stem import SnowballStemmer\n",
    "import re\n",
    "from sklearn.metrics import accuracy_score\n",
    "from sklearn.model_selection import train_test_split\n",
    "import matplotlib.pyplot as plt\n",
    "import datetime, time, json, os, math, pickle, sys\n",
    "from string import punctuation\n",
    "from __future__ import division\n",
    "from __future__ import print_function\n",
    "from gensim.models import KeyedVectors\n",
    "\n",
    "from keras.preprocessing.text import Tokenizer\n",
    "from keras.preprocessing.sequence import pad_sequences\n",
    "from keras.models import Sequential, Model, load_model\n",
    "from keras.layers import concatenate, Embedding, Dense, Input, Dropout, Bidirectional, LSTM, BatchNormalization, TimeDistributed\n",
    "from keras.optimizers import Adam\n",
    "from keras.callbacks import ModelCheckpoint, EarlyStopping, ReduceLROnPlateau, TensorBoard\n",
    "from keras import backend as K\n"
   ]
  },
  {
   "cell_type": "code",
   "execution_count": 42,
   "metadata": {
    "collapsed": false,
    "deletable": true,
    "editable": true
   },
   "outputs": [],
   "source": [
    "DATA_DIR = '../data/'\n",
    "MODEL = 'Baseline'\n",
    "if os.getcwd().split('/')[-1] != MODEL:\n",
    "    print('WRONG MODEL DIR!!!')\n",
    "CHECKPOINT_DIR = './checkpoint/'\n",
    "if not os.path.exists(CHECKPOINT_DIR):\n",
    "    os.mkdir(CHECKPOINT_DIR)\n",
    "LOG_DIR = './log/'\n",
    "if not os.path.exists(LOG_DIR):\n",
    "    os.mkdir(LOG_DIR)\n",
    "OUTPUT_DIR = './output/'\n",
    "if not os.path.exists(OUTPUT_DIR):\n",
    "    os.mkdir(OUTPUT_DIR)\n",
    "    \n",
    "MAX_LEN = 40\n",
    "EMBEDDING_DIM = 300\n",
    "BATCH_SIZE = 32\n",
    "VALID_SPLIT = 0.05\n",
    "RE_WEIGHT = True # whether to re-weight classes to fit the 17.5% share in test set\n",
    "# VOCAB_SIZE = 10000\n",
    "\n",
    "\n",
    "def get_best_model(checkpoint_dir = CHECKPOINT_DIR):\n",
    "    files = glob.glob(checkpoint_dir+'*')\n",
    "    val_losses = [float(f.split('-')[-1][:-5]) for f in files]\n",
    "    index = val_losses.index(min(val_losses))\n",
    "    print('Loading model from checkpoint file ' + files[index])\n",
    "    model = load_model(files[index])\n",
    "    model_name = files[index].split('/')[-1]\n",
    "    print('Loading model Done!')\n",
    "    return (model, model_name)"
   ]
  },
  {
   "cell_type": "code",
   "execution_count": 36,
   "metadata": {
    "collapsed": false,
    "deletable": true,
    "editable": true
   },
   "outputs": [
    {
     "name": "stdout",
     "output_type": "stream",
     "text": [
      "(404290, 6)\n",
      "(2345796, 3)\n"
     ]
    }
   ],
   "source": [
    "trainval_df = pd.read_csv(DATA_DIR+\"train.csv\")\n",
    "test_df = pd.read_csv(DATA_DIR+\"test.csv\")\n",
    "print(trainval_df.shape)\n",
    "print(test_df.shape)"
   ]
  },
  {
   "cell_type": "raw",
   "metadata": {
    "deletable": true,
    "editable": true
   },
   "source": [
    "# Check for any null values\n",
    "# inds = pd.isnull(trainval_df).any(1).nonzero()[0]\n",
    "# trainval_df.loc[inds]\n",
    "# inds = pd.isnull(test_df).any(1).nonzero()[0]\n",
    "# test_df.loc[inds]\n",
    "\n",
    "# # Add the string 'empty' to empty strings\n",
    "# trainval_df = trainval_df.fillna('empty')\n",
    "# test_df = test_df.fillna('empty')"
   ]
  },
  {
   "cell_type": "code",
   "execution_count": 4,
   "metadata": {
    "collapsed": false,
    "deletable": true,
    "editable": true
   },
   "outputs": [],
   "source": [
    "# data cleaning\n",
    "abbr_dict={\n",
    "    \"i'm\":\"i am\",\n",
    "    \"'re\":\" are\",\n",
    "    \"'s\":\" is\",\n",
    "    \"'ve\":\" have\",\n",
    "    \"'ll\":\" will\",\n",
    "    \"n't\":\" not\",\n",
    "}\n",
    "\n",
    "_WORD_SPLIT = re.compile(b\"([.,!?\\\"':;)(])\")\n",
    "\n",
    "# stop_words = ['the','a','an','and','but','if','or','because','as','what','which','this','that','these','those','then',\n",
    "#               'just','so','than','such','both','through','about','for','is','of','while','during','to','What','Which',\n",
    "#               'Is','If','While','This']\n",
    "# print('stop_words:', len(stop_words))\n",
    "\n",
    "# # nltk.download(\"stopwords\")\n",
    "# stop_words = stopwords.words('english')\n",
    "# print('stop_words:', len(stop_words))\n",
    "\n",
    "\n",
    "def text_to_wordlist(text, abbr_dict=None, remove_stop_words=False, stem_words=False):\n",
    "    \n",
    "    if isinstance(text,float):\n",
    "        # turn nan to empty string\n",
    "        text = \"\"\n",
    "    else:\n",
    "#         Convert words to lower case and split them\n",
    "#         text = text.lower()\n",
    "\n",
    "#         # abbreviation replace\n",
    "#         # Create a regular expression  from the dictionary keys\n",
    "#         regex = re.compile(\"(%s)\" % \"|\".join(map(re.escape, abbr_dict.keys())))\n",
    "#         # For each match, look-up corresponding value in dictionary\n",
    "#         text = regex.sub(lambda mo: abbr_dict[mo.string[mo.start():mo.end()]], text) \n",
    "\n",
    "        words = []\n",
    "        for space_separated_fragment in text.strip().split():\n",
    "            words.extend(_WORD_SPLIT.split(space_separated_fragment))\n",
    "        text = [w for w in words if w]\n",
    "        text = \" \".join(text)\n",
    "\n",
    "#         Remove punctuation from text\n",
    "#         text = ''.join([c for c in text if c not in punctuation])\n",
    "\n",
    "        # Optionally, remove stop words\n",
    "        if remove_stop_words:\n",
    "            text = text.split()\n",
    "            text = [w for w in text if not w in stop_words]\n",
    "            text = \" \".join(text)\n",
    "\n",
    "        # Optionally, shorten words to their stems\n",
    "        if stem_words:\n",
    "            text = text.split()\n",
    "            stemmer = SnowballStemmer('english')\n",
    "            stemmed_words = [stemmer.stem(word) for word in text]\n",
    "            text = \" \".join(stemmed_words)\n",
    "        \n",
    "    # Return a list of words\n",
    "    return(text)\n"
   ]
  },
  {
   "cell_type": "raw",
   "metadata": {
    "collapsed": false,
    "deletable": true,
    "editable": true
   },
   "source": [
    "trainval_df['len1'] = trainval_df.apply(lambda row: len(row['question1_WL'].split()), axis=1)\n",
    "trainval_df['len2'] = trainval_df.apply(lambda row: len(row['question2_WL'].split()), axis=1)\n",
    "\n",
    "test_df['len1'] = test_df.apply(lambda row: len(row['question1_WL'].split()), axis=1)\n",
    "test_df['len2'] = test_df.apply(lambda row: len(row['question2_WL'].split()), axis=1)\n",
    "\n",
    "lengths = pd.concat([trainval_df['len1'],trainval_df['len2']], axis=0)\n",
    "print(lengths.describe())\n",
    "print(np.percentile(lengths, 99.0))\n",
    "print(np.percentile(lengths, 99.4))\n",
    "print(np.percentile(lengths, 99.5))\n",
    "print(np.percentile(lengths, 99.9))"
   ]
  },
  {
   "cell_type": "code",
   "execution_count": 39,
   "metadata": {
    "collapsed": false,
    "deletable": true,
    "editable": true
   },
   "outputs": [
    {
     "name": "stdout",
     "output_type": "stream",
     "text": [
      "Loading from file trainval_df.pickle\n",
      "Loading from file test_df.pickle\n"
     ]
    }
   ],
   "source": [
    "# question to word list by data cleaning\n",
    "\n",
    "file_name = 'trainval_df.pickle'\n",
    "if os.path.exists(OUTPUT_DIR+file_name):\n",
    "    print ('Loading from file '+file_name)\n",
    "    trainval_df = pd.read_pickle(OUTPUT_DIR+file_name)\n",
    "else:\n",
    "    print ('Generating file '+file_name)  \n",
    "    trainval_df['question1_WL'] = trainval_df.apply(lambda row: text_to_wordlist(row['question1']), axis=1)\n",
    "    trainval_df['question2_WL'] = trainval_df.apply(lambda row: text_to_wordlist(row['question2']), axis=1)\n",
    "    trainval_df.to_pickle(OUTPUT_DIR+file_name)      \n",
    "\n",
    "file_name = 'test_df.pickle'\n",
    "if os.path.exists(OUTPUT_DIR+file_name):\n",
    "    print ('Loading from file '+file_name)\n",
    "    test_df = pd.read_pickle(OUTPUT_DIR+file_name)\n",
    "else:\n",
    "    print ('Generating file '+file_name)  \n",
    "    test_df['question1_WL'] = test_df.apply(lambda row: text_to_wordlist(row['question1']), axis=1)\n",
    "    test_df['question2_WL'] = test_df.apply(lambda row: text_to_wordlist(row['question2']), axis=1)\n",
    "    test_df.to_pickle(OUTPUT_DIR+file_name)   \n",
    "    \n",
    "test_size = trainval_df.shape[0]-int(math.ceil(trainval_df.shape[0]*(1-VALID_SPLIT)/1024)*1024)\n",
    "train_df, valid_df = train_test_split(trainval_df, test_size=test_size, random_state=1986, stratify=trainval_df['is_duplicate'])"
   ]
  },
  {
   "cell_type": "code",
   "execution_count": 40,
   "metadata": {
    "collapsed": false,
    "deletable": true,
    "editable": true
   },
   "outputs": [
    {
     "name": "stdout",
     "output_type": "stream",
     "text": [
      "Words in index: 126355\n"
     ]
    }
   ],
   "source": [
    "# tokenize and pad\n",
    "\n",
    "all_questions = pd.concat([trainval_df['question1_WL'],trainval_df['question2_WL'],test_df['question1_WL'],test_df['question2_WL']], axis=0)\n",
    "tokenizer = Tokenizer(num_words=None, lower=True)\n",
    "tokenizer.fit_on_texts(all_questions)\n",
    "word_index = tokenizer.word_index\n",
    "nb_words = len(word_index)\n",
    "print(\"Words in index: %d\" % nb_words) #126355\n",
    "\n",
    "train_q1 = pad_sequences(tokenizer.texts_to_sequences(train_df['question1_WL']), maxlen = MAX_LEN)\n",
    "train_q2 = pad_sequences(tokenizer.texts_to_sequences(train_df['question2_WL']), maxlen = MAX_LEN)\n",
    "valid_q1 = pad_sequences(tokenizer.texts_to_sequences(valid_df['question1_WL']), maxlen = MAX_LEN)\n",
    "valid_q2 = pad_sequences(tokenizer.texts_to_sequences(valid_df['question2_WL']), maxlen = MAX_LEN)\n",
    "y_train = train_df.is_duplicate.values\n",
    "y_valid = valid_df.is_duplicate.values\n",
    "\n",
    "train_q1_Double = np.vstack((train_q1, train_q2))\n",
    "train_q2_Double = np.vstack((train_q2, train_q1))\n",
    "valid_q1_Double = np.vstack((valid_q1, valid_q2))\n",
    "valid_q2_Double = np.vstack((valid_q2, valid_q1))\n",
    "y_train_Double = np.hstack((y_train, y_train))\n",
    "y_valid_Double = np.hstack((y_valid, y_valid))\n",
    "\n",
    "val_sample_weights = np.ones(len(y_valid_Double))\n",
    "if RE_WEIGHT:\n",
    "    class_weight = {0: 1.309028344, 1: 0.472001959}\n",
    "    val_sample_weights *= 0.472001959\n",
    "    val_sample_weights[y_valid_Double==0] = 1.309028344\n",
    "else:\n",
    "    class_weight = None\n",
    "    val_sample_weights = None"
   ]
  },
  {
   "cell_type": "code",
   "execution_count": 7,
   "metadata": {
    "collapsed": false,
    "deletable": true,
    "editable": true
   },
   "outputs": [
    {
     "name": "stdout",
     "output_type": "stream",
     "text": [
      "Loading from file GoogleNews-vectors-negative300.bin.word_embedding_matrix.pickle\n"
     ]
    }
   ],
   "source": [
    "# load word_embedding_matrix\n",
    "\n",
    "W2V = 'GoogleNews-vectors-negative300.bin'\n",
    "file_name = W2V + '.word_embedding_matrix.pickle'\n",
    "if os.path.exists(OUTPUT_DIR+file_name):\n",
    "    print ('Loading from file '+file_name)\n",
    "    with open(OUTPUT_DIR+file_name, 'rb') as f:\n",
    "        word_embedding_matrix = pickle.load(f)\n",
    "else:\n",
    "    print ('Generating file '+file_name)   \n",
    "    word2vec = KeyedVectors.load_word2vec_format(DATA_DIR+'/WordEmbedding/'+W2V, binary=True)\n",
    "    print('Word embeddings:', len(word2vec.vocab)) #3,000,000\n",
    "\n",
    "    nb_words = len(word_index)\n",
    "    null_embedding_words = []\n",
    "    word_embedding_matrix = np.zeros((nb_words + 1, EMBEDDING_DIM))\n",
    "    for word, i in word_index.items():\n",
    "        if word in word2vec.vocab:\n",
    "            word_embedding_matrix[i] = word2vec.word_vec(word)\n",
    "        else:\n",
    "            null_embedding_words.append(word)\n",
    "    print('Null word embeddings: %d' %len(null_embedding_words)) #67,786\n",
    "\n",
    "    with open(OUTPUT_DIR+file_name, 'wb') as f:\n",
    "        pickle.dump(word_embedding_matrix, f)\n",
    "        "
   ]
  },
  {
   "cell_type": "raw",
   "metadata": {
    "collapsed": false,
    "deletable": true,
    "editable": true
   },
   "source": [
    "word_counts = tokenizer.word_counts\n",
    "null_embedding_word_counts = { word: word_counts[word] for word in null_embedding_words }\n",
    "print(sum(null_embedding_word_counts.values())) #454210\n",
    "\n",
    "word_docs = tokenizer.word_docs\n",
    "null_embedding_word_docs = { word: word_docs[word] for word in null_embedding_words }\n",
    "print(sum(null_embedding_word_docs.values())) #446584\n",
    "# 446584/(404290+2345796)/2 = 0.08119"
   ]
  },
  {
   "cell_type": "code",
   "execution_count": 29,
   "metadata": {
    "collapsed": true,
    "deletable": true,
    "editable": true
   },
   "outputs": [],
   "source": [
    "EMBEDDING_TRAINABLE = False\n",
    "RNNCELL_SIZE = 64\n",
    "RNNCELL_LAYERS = 1\n",
    "RNNCELL_DROPOUT = 0\n",
    "RNNCELL_RECURRENT_DROPOUT = 0\n",
    "RNNCELL_BIDIRECT = False\n",
    "DENSE_SIZE = 64\n",
    "DENSE_LAYERS = 1\n",
    "DENSE_DROPOUT = 0"
   ]
  },
  {
   "cell_type": "code",
   "execution_count": 43,
   "metadata": {
    "collapsed": false,
    "deletable": true,
    "editable": true
   },
   "outputs": [],
   "source": [
    "encode_model = Sequential()\n",
    "encode_model.add(Embedding(nb_words + 1, EMBEDDING_DIM, weights=[word_embedding_matrix], input_length=MAX_LEN, trainable=EMBEDDING_TRAINABLE))\n",
    "if RNNCELL_BIDIRECT:\n",
    "    for i in range(RNNCELL_LAYERS-1):\n",
    "        encode_model.add(Bidirectional(LSTM(RNNCELL_SIZE, dropout=RNNCELL_DROPOUT, recurrent_dropout=RNNCELL_RECURRENT_DROPOUT, \n",
    "                                            unroll=True, implementation=2, return_sequences=True)))\n",
    "    encode_model.add(Bidirectional(LSTM(RNNCELL_SIZE, dropout=RNNCELL_DROPOUT, recurrent_dropout=RNNCELL_RECURRENT_DROPOUT, \n",
    "                                        unroll=True, implementation=2)))\n",
    "else:\n",
    "    for i in range(RNNCELL_LAYERS-1):\n",
    "        encode_model.add(LSTM(RNNCELL_SIZE, dropout=RNNCELL_DROPOUT, recurrent_dropout=RNNCELL_RECURRENT_DROPOUT, \n",
    "                              unroll=True, implementation=2, return_sequences=True))\n",
    "    encode_model.add(LSTM(RNNCELL_SIZE, dropout=RNNCELL_DROPOUT, recurrent_dropout=RNNCELL_RECURRENT_DROPOUT, \n",
    "                          unroll=True, implementation=2))\n",
    "\n",
    "sequence1_input = Input(shape=(MAX_LEN,), name='q1')\n",
    "sequence2_input = Input(shape=(MAX_LEN,), name='q2')\n",
    "encoded_1 = encode_model(sequence1_input)\n",
    "encoded_2 = encode_model(sequence2_input)\n",
    "merged = concatenate([encoded_1, encoded_2], axis=-1)\n",
    "merged = Dropout(DENSE_DROPOUT)(merged)\n",
    "# merged = BatchNormalization()(merged)\n",
    "for i in range(DENSE_LAYERS):\n",
    "    merged = Dense(DENSE_SIZE, activation='relu', kernel_initializer='he_normal')(merged)\n",
    "    merged = Dropout(DENSE_DROPOUT)(merged)\n",
    "predictions = Dense(1, activation='sigmoid')(merged)\n",
    "model = Model(inputs=[sequence1_input, sequence2_input], outputs=predictions)\n"
   ]
  },
  {
   "cell_type": "code",
   "execution_count": 44,
   "metadata": {
    "collapsed": false,
    "deletable": true,
    "editable": true
   },
   "outputs": [
    {
     "name": "stdout",
     "output_type": "stream",
     "text": [
      "_________________________________________________________________\n",
      "Layer (type)                 Output Shape              Param #   \n",
      "=================================================================\n",
      "embedding_4 (Embedding)      (None, 40, 300)           37906800  \n",
      "_________________________________________________________________\n",
      "lstm_4 (LSTM)                (None, 64)                93440     \n",
      "=================================================================\n",
      "Total params: 38,000,240.0\n",
      "Trainable params: 93,440.0\n",
      "Non-trainable params: 37,906,800.0\n",
      "_________________________________________________________________\n"
     ]
    }
   ],
   "source": [
    "encode_model.summary()"
   ]
  },
  {
   "cell_type": "code",
   "execution_count": null,
   "metadata": {
    "collapsed": false,
    "deletable": true,
    "editable": true
   },
   "outputs": [
    {
     "name": "stdout",
     "output_type": "stream",
     "text": [
      "____________________________________________________________________________________________________\n",
      "Layer (type)                     Output Shape          Param #     Connected to                     \n",
      "====================================================================================================\n",
      "q1 (InputLayer)                  (None, 40)            0                                            \n",
      "____________________________________________________________________________________________________\n",
      "q2 (InputLayer)                  (None, 40)            0                                            \n",
      "____________________________________________________________________________________________________\n",
      "sequential_8 (Sequential)        (None, 64)            38000240                                     \n",
      "____________________________________________________________________________________________________\n",
      "concatenate_4 (Concatenate)      (None, 128)           0                                            \n",
      "____________________________________________________________________________________________________\n",
      "dropout_7 (Dropout)              (None, 128)           0                                            \n",
      "____________________________________________________________________________________________________\n",
      "dense_7 (Dense)                  (None, 64)            8256                                         \n",
      "____________________________________________________________________________________________________\n",
      "dropout_8 (Dropout)              (None, 64)            0                                            \n",
      "____________________________________________________________________________________________________\n",
      "dense_8 (Dense)                  (None, 1)             65                                           \n",
      "====================================================================================================\n",
      "Total params: 38,008,561.0\n",
      "Trainable params: 101,761.0\n",
      "Non-trainable params: 37,906,800.0\n",
      "____________________________________________________________________________________________________\n"
     ]
    }
   ],
   "source": [
    "model.summary()"
   ]
  },
  {
   "cell_type": "code",
   "execution_count": null,
   "metadata": {
    "collapsed": false,
    "deletable": true,
    "editable": true
   },
   "outputs": [
    {
     "name": "stdout",
     "output_type": "stream",
     "text": [
      "BATCH_SIZE: 32\n",
      "Train on 770048 samples, validate on 38532 samples\n",
      "Epoch 1/100\n",
      "Epoch 00000: val_loss improved from inf to 0.29426, saving model to ./checkpoint/weights.000-0.2943.hdf5\n",
      "1542s - loss: 0.3256 - acc: 0.7399 - val_loss: 0.2943 - val_acc: 0.7728\n",
      "Epoch 2/100\n",
      "Epoch 00001: val_loss improved from 0.29426 to 0.28122, saving model to ./checkpoint/weights.001-0.2812.hdf5\n",
      "1541s - loss: 0.2622 - acc: 0.8065 - val_loss: 0.2812 - val_acc: 0.8008\n",
      "Epoch 3/100\n",
      "Epoch 00002: val_loss did not improve\n",
      "1544s - loss: 0.2295 - acc: 0.8377 - val_loss: 0.2914 - val_acc: 0.8147\n",
      "Epoch 4/100\n"
     ]
    }
   ],
   "source": [
    "optimizer = Adam(lr=1e-3)\n",
    "model.compile(optimizer=optimizer, loss='binary_crossentropy', metrics=['accuracy'])\n",
    "\n",
    "callbacks = [ReduceLROnPlateau(monitor='val_loss', factor=0.1, patience=5, verbose=1),\n",
    "             EarlyStopping(monitor='val_loss', min_delta=0, patience=10, verbose=1),\n",
    "             ModelCheckpoint(filepath=CHECKPOINT_DIR+'weights.{epoch:03d}-{val_loss:.4f}.hdf5', monitor='val_loss', verbose=1, save_best_only=True),\n",
    "             TensorBoard(log_dir=LOG_DIR, histogram_freq=0, write_graph=False, write_images=True)]\n",
    "\n",
    "print('BATCH_SIZE:', BATCH_SIZE)\n",
    "model.fit({'q1': train_q1_Double, 'q2': train_q2_Double}, y_train_Double, \n",
    "          batch_size=BATCH_SIZE, epochs=100, verbose=2, callbacks=callbacks, \n",
    "          validation_data=({'q1': valid_q1_Double, 'q2': valid_q2_Double}, y_valid_Double, val_sample_weights), \n",
    "          shuffle=True, class_weight=class_weight, initial_epoch=0)"
   ]
  },
  {
   "cell_type": "raw",
   "metadata": {
    "collapsed": true,
    "deletable": true,
    "editable": true
   },
   "source": [
    "#resume training\n",
    "\n",
    "model, model_name = get_best_model()\n",
    "# model = load_model(CHECKPOINT_DIR + 'weights.025-0.4508.hdf5')\n",
    "# model_name = 'weights.025-0.4508.hdf5'\n",
    "# print('model_name', model_name)\n",
    "\n",
    "# #try increasing learningrate\n",
    "# optimizer = Adam(lr=1e-4)\n",
    "# model.compile(optimizer=optimizer, loss='binary_crossentropy', metrics=['accuracy'])\n",
    "\n",
    "# callbacks = [ReduceLROnPlateau(monitor='val_loss', factor=0.1, patience=5, verbose=1),\n",
    "#              EarlyStopping(monitor='val_loss', min_delta=0, patience=10, verbose=1),\n",
    "#              ModelCheckpoint(filepath=CHECKPOINT_DIR+'weights.{epoch:03d}-{val_loss:.4f}.hdf5', monitor='val_loss', verbose=1, save_best_only=True),\n",
    "#              TensorBoard(log_dir=LOG_DIR, histogram_freq=0, write_graph=False, write_images=True)]\n",
    "\n",
    "print('BATCH_SIZE:', BATCH_SIZE)\n",
    "model.fit({'q1': train_q1_Double, 'q2': train_q2_Double}, y_train_Double, \n",
    "          batch_size=BATCH_SIZE, epochs=100, verbose=2, callbacks=callbacks, \n",
    "          validation_data=({'q1': valid_q1_Double, 'q2': valid_q2_Double}, y_valid_Double, val_sample_weights), \n",
    "          shuffle=True, class_weight=class_weight, initial_epoch=)"
   ]
  },
  {
   "cell_type": "code",
   "execution_count": 37,
   "metadata": {
    "collapsed": false,
    "deletable": true,
    "editable": true
   },
   "outputs": [
    {
     "name": "stdout",
     "output_type": "stream",
     "text": [
      "model_name weights.002-0.2822.hdf5\n"
     ]
    },
    {
     "data": {
      "text/plain": [
       "[0.28221574697640039, 0.81337590717791675]"
      ]
     },
     "execution_count": 37,
     "metadata": {},
     "output_type": "execute_result"
    }
   ],
   "source": [
    "model = load_model(CHECKPOINT_DIR + 'weights.002-0.2822.hdf5')\n",
    "model_name = 'weights.002-0.2822.hdf5'\n",
    "print('model_name', model_name)\n",
    "val_loss = model.evaluate({'q1': valid_q1_Double, 'q2': valid_q2_Double}, y_valid_Double, sample_weight=val_sample_weights, batch_size=8192, verbose=2)\n",
    "val_loss"
   ]
  },
  {
   "cell_type": "code",
   "execution_count": 41,
   "metadata": {
    "collapsed": false,
    "deletable": true,
    "editable": true
   },
   "outputs": [
    {
     "name": "stdout",
     "output_type": "stream",
     "text": [
      "Baseline_weights.002-0.2822.hdf5_LSTM64*1_DENSE64*1_valloss0.2822.csv\n"
     ]
    }
   ],
   "source": [
    "#Create submission\n",
    "test_q1 = pad_sequences(tokenizer.texts_to_sequences(test_df['question1_WL']), maxlen = MAX_LEN)\n",
    "test_q2 = pad_sequences(tokenizer.texts_to_sequences(test_df['question2_WL']), maxlen = MAX_LEN)\n",
    "predictions = model.predict({'q1': test_q1, 'q2': test_q2}, batch_size=8192, verbose=2)\n",
    "predictions += model.predict({'q1': test_q2, 'q2': test_q1}, batch_size=8192, verbose=2)\n",
    "predictions /= 2\n",
    "\n",
    "submission = pd.DataFrame(predictions, columns=['is_duplicate'])\n",
    "submission.insert(0, 'test_id', test_df.test_id)\n",
    "file_name = MODEL+'_'+model_name+'_LSTM{:d}*{:d}_DENSE{:d}*{:d}_valloss{:.4f}.csv' \\\n",
    ".format(RNNCELL_SIZE,RNNCELL_LAYERS,DENSE_SIZE,DENSE_LAYERS,val_loss[0])\n",
    "submission.to_csv(OUTPUT_DIR+file_name, index=False)\n",
    "print(file_name)"
   ]
  },
  {
   "cell_type": "raw",
   "metadata": {
    "deletable": true,
    "editable": true
   },
   "source": [
    "sys.stdout = open(OUTPUT_DIR+'training_output.txt', 'a')\n",
    "history = model.fit({'q1': train_q1, 'q2': train_q2}, y_train, batch_size=BATCH_SIZE, epochs=3, verbose=2, callbacks=callbacks, \n",
    "                    validation_data=({'q1': valid_q1, 'q2': valid_q2}, y_valid), shuffle=True, initial_epoch=0)\n",
    "sys.stdout = sys.__stdout__"
   ]
  },
  {
   "cell_type": "raw",
   "metadata": {
    "deletable": true,
    "editable": true
   },
   "source": [
    "summary_stats = pd.DataFrame({'epoch': [ i + 1 for i in history.epoch ],\n",
    "                              'train_acc': history.history['acc'],\n",
    "                              'valid_acc': history.history['val_acc'],\n",
    "                              'train_loss': history.history['loss'],\n",
    "                              'valid_loss': history.history['val_loss']})\n",
    "summary_stats\n",
    "\n",
    "plt.plot(summary_stats.train_loss) # blue\n",
    "plt.plot(summary_stats.valid_loss) # green\n",
    "plt.show()"
   ]
  },
  {
   "cell_type": "raw",
   "metadata": {
    "deletable": true,
    "editable": true
   },
   "source": [
    "units = 128 # Number of nodes in the Dense layers\n",
    "dropout = 0.25 # Percentage of nodes to drop\n",
    "nb_filter = 32 # Number of filters to use in Convolution1D\n",
    "filter_length = 3 # Length of filter for Convolution1D\n",
    "# Initialize weights and biases for the Dense layers\n",
    "weights = initializers.TruncatedNormal(mean=0.0, stddev=0.05, seed=2)\n",
    "bias = bias_initializer='zeros'\n",
    "\n",
    "model1 = Sequential()\n",
    "model1.add(Embedding(nb_words + 1, EMBEDDING_DIM, weights=[word_embedding_matrix], input_length = MAX_LEN, trainable = False))\n",
    "model1.add(Convolution1D(filters=nb_filter, kernel_size=filter_length, padding='same'))\n",
    "model1.add(BatchNormalization())\n",
    "model1.add(Activation('relu'))\n",
    "model1.add(Dropout(dropout))\n",
    "model1.add(Convolution1D(filters=nb_filter, kernel_size=filter_length, padding='same'))\n",
    "model1.add(BatchNormalization())\n",
    "model1.add(Activation('relu'))\n",
    "model1.add(Dropout(dropout))\n",
    "model1.add(Flatten())\n",
    "\n",
    "\n",
    "model2 = Sequential()\n",
    "model2.add(Embedding(nb_words + 1, EMBEDDING_DIM, weights=[word_embedding_matrix], input_length = MAX_LEN, trainable = False))\n",
    "model2.add(Convolution1D(filters=nb_filter, kernel_size=filter_length, padding='same'))\n",
    "model2.add(BatchNormalization())\n",
    "model2.add(Activation('relu'))\n",
    "model2.add(Dropout(dropout))\n",
    "model2.add(Convolution1D(filters=nb_filter, kernel_size=filter_length, padding='same'))\n",
    "model2.add(BatchNormalization())\n",
    "model2.add(Activation('relu'))\n",
    "model2.add(Dropout(dropout))\n",
    "model2.add(Flatten())\n",
    "\n",
    "\n",
    "model3 = Sequential()\n",
    "model3.add(Embedding(nb_words + 1, EMBEDDING_DIM, weights=[word_embedding_matrix], input_length = MAX_LEN, trainable = False))\n",
    "model3.add(TimeDistributed(Dense(EMBEDDING_DIM)))\n",
    "model3.add(BatchNormalization())\n",
    "model3.add(Activation('relu'))\n",
    "model3.add(Dropout(dropout))\n",
    "model3.add(Lambda(lambda x: K.max(x, axis=1), output_shape=(EMBEDDING_DIM, )))\n",
    "\n",
    "\n",
    "model4 = Sequential()\n",
    "model4.add(Embedding(nb_words + 1, EMBEDDING_DIM, weights=[word_embedding_matrix], input_length = MAX_LEN, trainable = False))\n",
    "model4.add(TimeDistributed(Dense(EMBEDDING_DIM)))\n",
    "model4.add(BatchNormalization())\n",
    "model4.add(Activation('relu'))\n",
    "model4.add(Dropout(dropout))\n",
    "model4.add(Lambda(lambda x: K.max(x, axis=1), output_shape=(EMBEDDING_DIM, )))\n",
    "\n",
    "\n",
    "modela = Sequential()\n",
    "modela.add(Merge([model1, model2], mode='concat'))\n",
    "modela.add(Dense(units*2, kernel_initializer=weights, bias_initializer=bias))\n",
    "modela.add(BatchNormalization())\n",
    "modela.add(Activation('relu'))\n",
    "modela.add(Dropout(dropout))\n",
    "modela.add(Dense(units, kernel_initializer=weights, bias_initializer=bias))\n",
    "modela.add(BatchNormalization())\n",
    "modela.add(Activation('relu'))\n",
    "modela.add(Dropout(dropout))\n",
    "\n",
    "\n",
    "modelb = Sequential()\n",
    "modelb.add(Merge([model3, model4], mode='concat'))\n",
    "modelb.add(Dense(units*2, kernel_initializer=weights, bias_initializer=bias))\n",
    "modelb.add(BatchNormalization())\n",
    "modelb.add(Activation('relu'))\n",
    "modelb.add(Dropout(dropout))\n",
    "modelb.add(Dense(units, kernel_initializer=weights, bias_initializer=bias))\n",
    "modelb.add(BatchNormalization())\n",
    "modelb.add(Activation('relu'))\n",
    "modelb.add(Dropout(dropout))\n",
    "\n",
    "\n",
    "model = Sequential()\n",
    "model.add(Merge([modela, modelb], mode='concat'))\n",
    "model.add(Dense(units*2, kernel_initializer=weights, bias_initializer=bias))\n",
    "model.add(BatchNormalization())\n",
    "model.add(Activation('relu'))\n",
    "model.add(Dropout(dropout))\n",
    "model.add(Dense(units, kernel_initializer=weights, bias_initializer=bias))\n",
    "model.add(BatchNormalization())\n",
    "model.add(Activation('relu'))\n",
    "model.add(Dropout(dropout))\n",
    "model.add(Dense(units, kernel_initializer=weights, bias_initializer=bias))\n",
    "model.add(BatchNormalization())\n",
    "model.add(Activation('relu'))\n",
    "model.add(Dropout(dropout))\n",
    "model.add(Dense(1, kernel_initializer=weights, bias_initializer=bias))\n",
    "model.add(BatchNormalization())\n",
    "model.add(Activation('sigmoid'))"
   ]
  }
 ],
 "metadata": {
  "kernelspec": {
   "display_name": "Python 2",
   "language": "python",
   "name": "python2"
  },
  "language_info": {
   "codemirror_mode": {
    "name": "ipython",
    "version": 2
   },
   "file_extension": ".py",
   "mimetype": "text/x-python",
   "name": "python",
   "nbconvert_exporter": "python",
   "pygments_lexer": "ipython2",
   "version": "2.7.12"
  }
 },
 "nbformat": 4,
 "nbformat_minor": 2
}
