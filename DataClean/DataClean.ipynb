{
 "cells": [
  {
   "cell_type": "raw",
   "metadata": {
    "deletable": true,
    "editable": true
   },
   "source": [
    "Use data clean from script_LSTM.py\n",
    "\n",
    "LSTM(64)\n",
    "DENSE(64)\n",
    "BATCH_SIZE = 256\n",
    "weights.002-0.2777.hdf5\n",
    "212s - loss: 0.2390 - acc: 0.8283 - val_loss: 0.2777 - val_acc: 0.8053\n",
    "\n",
    "LSTM(128，0.5，0.5)\n",
    "DENSE(128，0.5)\n",
    "BatchNormalization()\n",
    "BATCH_SIZE = 2048\n",
    "weights.022-0.2778.hdf5\n",
    "111s - loss: 0.2682 - acc: 0.7932 - val_loss: 0.2778 - val_acc: 0.7855\n",
    "\n",
    "LSTM(128，0.5，0.5)\n",
    "DENSE(128，0.5)\n",
    "BATCH_SIZE = 2048\n",
    "weights.025-0.2798.hdf5\n",
    "110s - loss: 0.2660 - acc: 0.7969 - val_loss: 0.2798 - val_acc: 0.7826"
   ]
  },
  {
   "cell_type": "code",
   "execution_count": 1,
   "metadata": {
    "collapsed": false,
    "deletable": true,
    "editable": true
   },
   "outputs": [
    {
     "name": "stderr",
     "output_type": "stream",
     "text": [
      "Using TensorFlow backend.\n"
     ]
    }
   ],
   "source": [
    "import pandas as pd\n",
    "import numpy as np\n",
    "import nltk\n",
    "from nltk.corpus import stopwords\n",
    "from nltk.stem import SnowballStemmer\n",
    "import re\n",
    "from sklearn.metrics import accuracy_score\n",
    "from sklearn.model_selection import train_test_split\n",
    "import matplotlib.pyplot as plt\n",
    "import datetime, time, json, os, math, pickle, sys\n",
    "from string import punctuation\n",
    "from __future__ import division\n",
    "from __future__ import print_function\n",
    "\n",
    "from keras.preprocessing.text import Tokenizer\n",
    "from keras.preprocessing.sequence import pad_sequences\n",
    "from keras.models import Sequential, Model, load_model\n",
    "from keras.layers import concatenate, Embedding, Dense, Input, Dropout, Bidirectional, LSTM, BatchNormalization, TimeDistributed\n",
    "from keras.optimizers import Adam\n",
    "from keras.callbacks import ModelCheckpoint, EarlyStopping, ReduceLROnPlateau, TensorBoard\n",
    "from keras import backend as K\n"
   ]
  },
  {
   "cell_type": "code",
   "execution_count": 22,
   "metadata": {
    "collapsed": false,
    "deletable": true,
    "editable": true
   },
   "outputs": [],
   "source": [
    "DATA_DIR = '../data/'\n",
    "MODEL = 'DataClean'\n",
    "if os.getcwd().split('/')[-1] != MODEL:\n",
    "    print('WRONG MODEL DIR!!!')\n",
    "CHECKPOINT_DIR = './checkpoint/'\n",
    "if not os.path.exists(CHECKPOINT_DIR):\n",
    "    os.mkdir(CHECKPOINT_DIR)\n",
    "LOG_DIR = './log/'\n",
    "if not os.path.exists(LOG_DIR):\n",
    "    os.mkdir(LOG_DIR)\n",
    "OUTPUT_DIR = './output/'\n",
    "if not os.path.exists(OUTPUT_DIR):\n",
    "    os.mkdir(OUTPUT_DIR)\n",
    "    \n",
    "MAX_LEN = 40\n",
    "EMBEDDING_DIM = 300\n",
    "VALID_SPLIT = 0.05\n",
    "RE_WEIGHT = True # whether to re-weight classes to fit the 17.5% share in test set\n",
    "# VOCAB_SIZE = 10000\n",
    "\n",
    "\n",
    "def get_best_model(checkpoint_dir = CHECKPOINT_DIR):\n",
    "    files = glob.glob(checkpoint_dir+'*')\n",
    "    val_losses = [float(f.split('-')[-1][:-5]) for f in files]\n",
    "    index = val_losses.index(min(val_losses))\n",
    "    print('Loading model from checkpoint file ' + files[index])\n",
    "    model = load_model(files[index])\n",
    "    model_name = files[index].split('/')[-1]\n",
    "    print('Loading model Done!')\n",
    "    return (model, model_name)"
   ]
  },
  {
   "cell_type": "code",
   "execution_count": 3,
   "metadata": {
    "collapsed": false,
    "deletable": true,
    "editable": true
   },
   "outputs": [
    {
     "name": "stdout",
     "output_type": "stream",
     "text": [
      "(404290, 6)\n",
      "(2345796, 3)\n"
     ]
    }
   ],
   "source": [
    "trainval_df = pd.read_csv(DATA_DIR+\"train.csv\")\n",
    "test_df = pd.read_csv(DATA_DIR+\"test.csv\")\n",
    "print(trainval_df.shape)\n",
    "print(test_df.shape)"
   ]
  },
  {
   "cell_type": "raw",
   "metadata": {
    "deletable": true,
    "editable": true
   },
   "source": [
    "# Check for any null values\n",
    "# inds = pd.isnull(trainval_df).any(1).nonzero()[0]\n",
    "# trainval_df.loc[inds]\n",
    "# inds = pd.isnull(test_df).any(1).nonzero()[0]\n",
    "# test_df.loc[inds]\n",
    "\n",
    "# # Add the string 'empty' to empty strings\n",
    "# trainval_df = trainval_df.fillna('empty')\n",
    "# test_df = test_df.fillna('empty')"
   ]
  },
  {
   "cell_type": "code",
   "execution_count": 6,
   "metadata": {
    "collapsed": false,
    "deletable": true,
    "editable": true
   },
   "outputs": [],
   "source": [
    "# data cleaning\n",
    "def text_to_wordlist(text, remove_stopwords=False, stem_words=False):\n",
    "    # Clean the text, with the option to remove stopwords and to stem words.\n",
    "    \n",
    "    if isinstance(text,float):\n",
    "        # turn nan to empty string\n",
    "        text = \"\"\n",
    "    else:\n",
    "        # Convert words to lower case and split them\n",
    "        text = text.lower().split()\n",
    "\n",
    "        # Optionally, remove stop words\n",
    "        if remove_stopwords:\n",
    "            stops = set(stopwords.words(\"english\"))\n",
    "            text = [w for w in text if not w in stops]\n",
    "\n",
    "        text = \" \".join(text)\n",
    "\n",
    "        # Clean the text\n",
    "        text = re.sub(r\"[^A-Za-z0-9^,!.\\/'+-=]\", \" \", text)\n",
    "        text = re.sub(r\"what's\", \"what is \", text)\n",
    "        text = re.sub(r\"\\'s\", \" \", text)\n",
    "        text = re.sub(r\"\\'ve\", \" have \", text)\n",
    "        text = re.sub(r\"can't\", \"cannot \", text)\n",
    "        text = re.sub(r\"n't\", \" not \", text)\n",
    "        text = re.sub(r\"i'm\", \"i am \", text)\n",
    "        text = re.sub(r\"\\'re\", \" are \", text)\n",
    "        text = re.sub(r\"\\'d\", \" would \", text)\n",
    "        text = re.sub(r\"\\'ll\", \" will \", text)\n",
    "        text = re.sub(r\",\", \" \", text)\n",
    "        text = re.sub(r\"\\.\", \" \", text)\n",
    "        text = re.sub(r\"!\", \" ! \", text)\n",
    "        text = re.sub(r\"\\/\", \" \", text)\n",
    "        text = re.sub(r\"\\^\", \" ^ \", text)\n",
    "        text = re.sub(r\"\\+\", \" + \", text)\n",
    "        text = re.sub(r\"\\-\", \" - \", text)\n",
    "        text = re.sub(r\"\\=\", \" = \", text)\n",
    "        text = re.sub(r\"'\", \" \", text)\n",
    "        text = re.sub(r\"60k\", \" 60000 \", text)\n",
    "        text = re.sub(r\":\", \" : \", text)\n",
    "        text = re.sub(r\" e g \", \" eg \", text)\n",
    "        text = re.sub(r\" b g \", \" bg \", text)\n",
    "        text = re.sub(r\" u s \", \" american \", text)\n",
    "        text = re.sub(r\"\\0s\", \"0\", text)\n",
    "        text = re.sub(r\" 9 11 \", \"911\", text)\n",
    "        text = re.sub(r\"e - mail\", \"email\", text)\n",
    "        text = re.sub(r\"j k\", \"jk\", text)\n",
    "        text = re.sub(r\"\\s{2,}\", \" \", text)\n",
    "\n",
    "        # Optionally, shorten words to their stems\n",
    "        if stem_words:\n",
    "            text = text.split()\n",
    "            stemmer = SnowballStemmer('english')\n",
    "            stemmed_words = [stemmer.stem(word) for word in text]\n",
    "            text = \" \".join(stemmed_words)\n",
    "\n",
    "    # Return a list of words\n",
    "    return(text)"
   ]
  },
  {
   "cell_type": "code",
   "execution_count": 7,
   "metadata": {
    "collapsed": false,
    "deletable": true,
    "editable": true
   },
   "outputs": [
    {
     "name": "stdout",
     "output_type": "stream",
     "text": [
      "Generating file trainval_df.pickle\n",
      "Generating file test_df.pickle\n"
     ]
    }
   ],
   "source": [
    "# question to word list by data cleaning\n",
    "\n",
    "file_name = 'trainval_df.pickle'\n",
    "if os.path.exists(OUTPUT_DIR+file_name):\n",
    "    print ('Loading from file '+file_name)\n",
    "    trainval_df = pd.read_pickle(OUTPUT_DIR+file_name)\n",
    "else:\n",
    "    print ('Generating file '+file_name)  \n",
    "    trainval_df['question1_WL'] = trainval_df.apply(lambda row: text_to_wordlist(row['question1']), axis=1)\n",
    "    trainval_df['question2_WL'] = trainval_df.apply(lambda row: text_to_wordlist(row['question2']), axis=1)\n",
    "    trainval_df.to_pickle(OUTPUT_DIR+file_name)      \n",
    "\n",
    "file_name = 'test_df.pickle'\n",
    "if os.path.exists(OUTPUT_DIR+file_name):\n",
    "    print ('Loading from file '+file_name)\n",
    "    test_df = pd.read_pickle(OUTPUT_DIR+file_name)\n",
    "else:\n",
    "    print ('Generating file '+file_name)  \n",
    "    test_df['question1_WL'] = test_df.apply(lambda row: text_to_wordlist(row['question1']), axis=1)\n",
    "    test_df['question2_WL'] = test_df.apply(lambda row: text_to_wordlist(row['question2']), axis=1)\n",
    "    test_df.to_pickle(OUTPUT_DIR+file_name)   \n",
    "    \n",
    "test_size = trainval_df.shape[0]-int(math.ceil(trainval_df.shape[0]*(1-VALID_SPLIT)/1024)*1024)\n",
    "train_df, valid_df = train_test_split(trainval_df, test_size=test_size, random_state=1986, stratify=trainval_df['is_duplicate'])"
   ]
  },
  {
   "cell_type": "raw",
   "metadata": {
    "collapsed": false,
    "deletable": true,
    "editable": true
   },
   "source": [
    "# trainval_df['len1'] = trainval_df.apply(lambda row: len(row['question1_WL'].split()), axis=1)\n",
    "# trainval_df['len2'] = trainval_df.apply(lambda row: len(row['question2_WL'].split()), axis=1)\n",
    "\n",
    "test_df['len1'] = test_df.apply(lambda row: len(row['question1_WL'].split()), axis=1)\n",
    "test_df['len2'] = test_df.apply(lambda row: len(row['question2_WL'].split()), axis=1)\n",
    "\n",
    "lengths = pd.concat([test_df['len1'],test_df['len2']], axis=0)\n",
    "print(lengths.describe())\n",
    "print(np.percentile(lengths, 99.0))\n",
    "print(np.percentile(lengths, 99.4))\n",
    "print(np.percentile(lengths, 99.5))\n",
    "print(np.percentile(lengths, 99.9))"
   ]
  },
  {
   "cell_type": "code",
   "execution_count": 11,
   "metadata": {
    "collapsed": false,
    "deletable": true,
    "editable": true
   },
   "outputs": [
    {
     "name": "stdout",
     "output_type": "stream",
     "text": [
      "Words in index: 120594\n"
     ]
    }
   ],
   "source": [
    "# tokenize and pad\n",
    "\n",
    "all_questions = pd.concat([trainval_df['question1_WL'],trainval_df['question2_WL'],test_df['question1_WL'],test_df['question2_WL']], axis=0)\n",
    "tokenizer = Tokenizer(num_words=None, lower=True)\n",
    "tokenizer.fit_on_texts(all_questions)\n",
    "word_index = tokenizer.word_index\n",
    "nb_words = len(word_index)\n",
    "print(\"Words in index: %d\" % nb_words) #120594\n",
    "\n",
    "train_q1 = pad_sequences(tokenizer.texts_to_sequences(train_df['question1_WL']), maxlen = MAX_LEN)\n",
    "train_q2 = pad_sequences(tokenizer.texts_to_sequences(train_df['question2_WL']), maxlen = MAX_LEN)\n",
    "valid_q1 = pad_sequences(tokenizer.texts_to_sequences(valid_df['question1_WL']), maxlen = MAX_LEN)\n",
    "valid_q2 = pad_sequences(tokenizer.texts_to_sequences(valid_df['question2_WL']), maxlen = MAX_LEN)\n",
    "y_train = train_df.is_duplicate.values\n",
    "y_valid = valid_df.is_duplicate.values\n",
    "\n",
    "train_q1_Double = np.vstack((train_q1, train_q2))\n",
    "train_q2_Double = np.vstack((train_q2, train_q1))\n",
    "valid_q1_Double = np.vstack((valid_q1, valid_q2))\n",
    "valid_q2_Double = np.vstack((valid_q2, valid_q1))\n",
    "y_train_Double = np.hstack((y_train, y_train))\n",
    "y_valid_Double = np.hstack((y_valid, y_valid))\n",
    "\n",
    "val_sample_weights = np.ones(len(y_valid_Double))\n",
    "if RE_WEIGHT:\n",
    "    class_weight = {0: 1.309028344, 1: 0.472001959}\n",
    "    val_sample_weights *= 0.472001959\n",
    "    val_sample_weights[y_valid_Double==0] = 1.309028344\n",
    "else:\n",
    "    class_weight = None\n",
    "    val_sample_weights = None"
   ]
  },
  {
   "cell_type": "code",
   "execution_count": 12,
   "metadata": {
    "collapsed": false,
    "deletable": true,
    "editable": true
   },
   "outputs": [
    {
     "name": "stdout",
     "output_type": "stream",
     "text": [
      "Generating file glove.840B.300d.txt.word_embedding_matrix.pickle\n",
      "Word embeddings: 1505774\n",
      "Null word embeddings: 37412\n"
     ]
    }
   ],
   "source": [
    "# load word_embedding_matrix\n",
    "\n",
    "W2V = 'glove.840B.300d.txt'\n",
    "file_name = W2V + '.word_embedding_matrix.pickle'\n",
    "if os.path.exists(OUTPUT_DIR+file_name):\n",
    "    print ('Loading from file '+file_name)\n",
    "    with open(OUTPUT_DIR+file_name, 'rb') as f:\n",
    "        word_embedding_matrix = pickle.load(f)\n",
    "else:\n",
    "    print ('Generating file '+file_name)   \n",
    "    # Load GloVe to use pretrained vectors\n",
    "    embeddings_index = {}\n",
    "    with open(DATA_DIR+'/WordEmbedding/'+W2V) as f:\n",
    "        for line in f:\n",
    "            values = line.split(' ')\n",
    "            word = values[0]\n",
    "            embedding = np.asarray(values[1:], dtype='float32')\n",
    "            embeddings_index[word] = embedding\n",
    "    print('Word embeddings:', len(embeddings_index)) #1,505,774\n",
    "\n",
    "    # Need to use EMBEDDING_DIM for embedding dimensions to match GloVe's vectors.\n",
    "    nb_words = len(word_index)\n",
    "    null_embedding_words = []\n",
    "    word_embedding_matrix = np.zeros((nb_words + 1, EMBEDDING_DIM))\n",
    "    for word, i in word_index.items():\n",
    "        embedding_vector = embeddings_index.get(word)\n",
    "        if embedding_vector is not None:\n",
    "            # words not found in embedding index will be all-zeros.\n",
    "            word_embedding_matrix[i] = embedding_vector\n",
    "        else:\n",
    "            null_embedding_words.append(word)\n",
    "    print('Null word embeddings: %d' %len(null_embedding_words)) #37,412\n",
    "\n",
    "    with open(OUTPUT_DIR+file_name, 'wb') as f:\n",
    "        pickle.dump(word_embedding_matrix, f)\n",
    "        "
   ]
  },
  {
   "cell_type": "raw",
   "metadata": {
    "collapsed": false,
    "deletable": true,
    "editable": true
   },
   "source": [
    "word_counts = tokenizer.word_counts\n",
    "null_embedding_word_counts = { word: word_counts[word] for word in null_embedding_words }\n",
    "print(sum(null_embedding_word_counts.values())) #454210\n",
    "\n",
    "word_docs = tokenizer.word_docs\n",
    "null_embedding_word_docs = { word: word_docs[word] for word in null_embedding_words }\n",
    "print(sum(null_embedding_word_docs.values())) #446584\n",
    "# 446584/(404290+2345796)/2 = 0.08119"
   ]
  },
  {
   "cell_type": "code",
   "execution_count": 40,
   "metadata": {
    "collapsed": true,
    "deletable": true,
    "editable": true
   },
   "outputs": [],
   "source": [
    "BATCH_SIZE = 2048\n",
    "EMBEDDING_TRAINABLE = False\n",
    "RNNCELL_SIZE = 128\n",
    "RNNCELL_LAYERS = 1\n",
    "RNNCELL_DROPOUT = 0.5\n",
    "RNNCELL_RECURRENT_DROPOUT = 0.5\n",
    "RNNCELL_BIDIRECT = False\n",
    "DENSE_SIZE = 128\n",
    "DENSE_LAYERS = 1\n",
    "DENSE_DROPOUT = 0.5"
   ]
  },
  {
   "cell_type": "code",
   "execution_count": 41,
   "metadata": {
    "collapsed": false,
    "deletable": true,
    "editable": true
   },
   "outputs": [],
   "source": [
    "encode_model = Sequential()\n",
    "encode_model.add(Embedding(nb_words + 1, EMBEDDING_DIM, weights=[word_embedding_matrix], input_length=MAX_LEN, trainable=EMBEDDING_TRAINABLE))\n",
    "if RNNCELL_BIDIRECT:\n",
    "    for i in range(RNNCELL_LAYERS-1):\n",
    "        encode_model.add(Bidirectional(LSTM(RNNCELL_SIZE, dropout=RNNCELL_DROPOUT, recurrent_dropout=RNNCELL_RECURRENT_DROPOUT, \n",
    "                                            unroll=True, implementation=2, return_sequences=True)))\n",
    "    encode_model.add(Bidirectional(LSTM(RNNCELL_SIZE, dropout=RNNCELL_DROPOUT, recurrent_dropout=RNNCELL_RECURRENT_DROPOUT, \n",
    "                                        unroll=True, implementation=2)))\n",
    "else:\n",
    "    for i in range(RNNCELL_LAYERS-1):\n",
    "        encode_model.add(LSTM(RNNCELL_SIZE, dropout=RNNCELL_DROPOUT, recurrent_dropout=RNNCELL_RECURRENT_DROPOUT, \n",
    "                              unroll=True, implementation=2, return_sequences=True))\n",
    "    encode_model.add(LSTM(RNNCELL_SIZE, dropout=RNNCELL_DROPOUT, recurrent_dropout=RNNCELL_RECURRENT_DROPOUT, \n",
    "                          unroll=True, implementation=2))\n",
    "\n",
    "sequence1_input = Input(shape=(MAX_LEN,), name='q1')\n",
    "sequence2_input = Input(shape=(MAX_LEN,), name='q2')\n",
    "encoded_1 = encode_model(sequence1_input)\n",
    "encoded_2 = encode_model(sequence2_input)\n",
    "merged = concatenate([encoded_1, encoded_2], axis=-1)\n",
    "merged = Dropout(DENSE_DROPOUT)(merged)\n",
    "# merged = BatchNormalization()(merged)\n",
    "for i in range(DENSE_LAYERS):\n",
    "    merged = Dense(DENSE_SIZE, activation='relu', kernel_initializer='he_normal')(merged)\n",
    "    merged = Dropout(DENSE_DROPOUT)(merged)\n",
    "#     merged = BatchNormalization()(merged)\n",
    "predictions = Dense(1, activation='sigmoid')(merged)\n",
    "model = Model(inputs=[sequence1_input, sequence2_input], outputs=predictions)\n"
   ]
  },
  {
   "cell_type": "code",
   "execution_count": 42,
   "metadata": {
    "collapsed": false,
    "deletable": true,
    "editable": true
   },
   "outputs": [
    {
     "name": "stdout",
     "output_type": "stream",
     "text": [
      "_________________________________________________________________\n",
      "Layer (type)                 Output Shape              Param #   \n",
      "=================================================================\n",
      "embedding_6 (Embedding)      (None, 40, 300)           36178500  \n",
      "_________________________________________________________________\n",
      "lstm_6 (LSTM)                (None, 128)               219648    \n",
      "=================================================================\n",
      "Total params: 36,398,148.0\n",
      "Trainable params: 219,648.0\n",
      "Non-trainable params: 36,178,500.0\n",
      "_________________________________________________________________\n"
     ]
    }
   ],
   "source": [
    "encode_model.summary()"
   ]
  },
  {
   "cell_type": "code",
   "execution_count": 43,
   "metadata": {
    "collapsed": false,
    "deletable": true,
    "editable": true
   },
   "outputs": [
    {
     "name": "stdout",
     "output_type": "stream",
     "text": [
      "____________________________________________________________________________________________________\n",
      "Layer (type)                     Output Shape          Param #     Connected to                     \n",
      "====================================================================================================\n",
      "q1 (InputLayer)                  (None, 40)            0                                            \n",
      "____________________________________________________________________________________________________\n",
      "q2 (InputLayer)                  (None, 40)            0                                            \n",
      "____________________________________________________________________________________________________\n",
      "sequential_9 (Sequential)        (None, 128)           36398148                                     \n",
      "____________________________________________________________________________________________________\n",
      "concatenate_6 (Concatenate)      (None, 256)           0                                            \n",
      "____________________________________________________________________________________________________\n",
      "dropout_12 (Dropout)             (None, 256)           0                                            \n",
      "____________________________________________________________________________________________________\n",
      "dense_12 (Dense)                 (None, 128)           32896                                        \n",
      "____________________________________________________________________________________________________\n",
      "dropout_13 (Dropout)             (None, 128)           0                                            \n",
      "____________________________________________________________________________________________________\n",
      "dense_13 (Dense)                 (None, 1)             129                                          \n",
      "====================================================================================================\n",
      "Total params: 36,431,173.0\n",
      "Trainable params: 252,673.0\n",
      "Non-trainable params: 36,178,500.0\n",
      "____________________________________________________________________________________________________\n"
     ]
    }
   ],
   "source": [
    "model.summary()"
   ]
  },
  {
   "cell_type": "code",
   "execution_count": 44,
   "metadata": {
    "collapsed": false,
    "deletable": true,
    "editable": true
   },
   "outputs": [
    {
     "name": "stdout",
     "output_type": "stream",
     "text": [
      "BATCH_SIZE: 2048\n",
      "Train on 770048 samples, validate on 38532 samples\n",
      "Epoch 1/100\n",
      "Epoch 00000: val_loss improved from inf to 0.36693, saving model to ./checkpoint/weights.000-0.3669.hdf5\n",
      "120s - loss: 0.4086 - acc: 0.6682 - val_loss: 0.3669 - val_acc: 0.6945\n",
      "Epoch 2/100\n",
      "Epoch 00001: val_loss improved from 0.36693 to 0.34885, saving model to ./checkpoint/weights.001-0.3489.hdf5\n",
      "110s - loss: 0.3662 - acc: 0.7073 - val_loss: 0.3489 - val_acc: 0.7372\n",
      "Epoch 3/100\n",
      "Epoch 00002: val_loss improved from 0.34885 to 0.33290, saving model to ./checkpoint/weights.002-0.3329.hdf5\n",
      "110s - loss: 0.3488 - acc: 0.7225 - val_loss: 0.3329 - val_acc: 0.7380\n",
      "Epoch 4/100\n",
      "Epoch 00003: val_loss improved from 0.33290 to 0.32665, saving model to ./checkpoint/weights.003-0.3267.hdf5\n",
      "110s - loss: 0.3375 - acc: 0.7317 - val_loss: 0.3267 - val_acc: 0.7467\n",
      "Epoch 5/100\n",
      "Epoch 00004: val_loss improved from 0.32665 to 0.31697, saving model to ./checkpoint/weights.004-0.3170.hdf5\n",
      "110s - loss: 0.3288 - acc: 0.7386 - val_loss: 0.3170 - val_acc: 0.7451\n",
      "Epoch 6/100\n",
      "Epoch 00005: val_loss improved from 0.31697 to 0.31174, saving model to ./checkpoint/weights.005-0.3117.hdf5\n",
      "110s - loss: 0.3216 - acc: 0.7454 - val_loss: 0.3117 - val_acc: 0.7542\n",
      "Epoch 7/100\n",
      "Epoch 00006: val_loss improved from 0.31174 to 0.30906, saving model to ./checkpoint/weights.006-0.3091.hdf5\n",
      "110s - loss: 0.3156 - acc: 0.7510 - val_loss: 0.3091 - val_acc: 0.7563\n",
      "Epoch 8/100\n",
      "Epoch 00007: val_loss improved from 0.30906 to 0.30893, saving model to ./checkpoint/weights.007-0.3089.hdf5\n",
      "110s - loss: 0.3098 - acc: 0.7560 - val_loss: 0.3089 - val_acc: 0.7658\n",
      "Epoch 9/100\n",
      "Epoch 00008: val_loss improved from 0.30893 to 0.30424, saving model to ./checkpoint/weights.008-0.3042.hdf5\n",
      "110s - loss: 0.3056 - acc: 0.7597 - val_loss: 0.3042 - val_acc: 0.7729\n",
      "Epoch 10/100\n",
      "Epoch 00009: val_loss improved from 0.30424 to 0.29670, saving model to ./checkpoint/weights.009-0.2967.hdf5\n",
      "110s - loss: 0.3015 - acc: 0.7636 - val_loss: 0.2967 - val_acc: 0.7691\n",
      "Epoch 11/100\n",
      "Epoch 00010: val_loss improved from 0.29670 to 0.29603, saving model to ./checkpoint/weights.010-0.2960.hdf5\n",
      "110s - loss: 0.2974 - acc: 0.7669 - val_loss: 0.2960 - val_acc: 0.7715\n",
      "Epoch 12/100\n",
      "Epoch 00011: val_loss improved from 0.29603 to 0.29311, saving model to ./checkpoint/weights.011-0.2931.hdf5\n",
      "110s - loss: 0.2945 - acc: 0.7699 - val_loss: 0.2931 - val_acc: 0.7709\n",
      "Epoch 13/100\n",
      "Epoch 00012: val_loss did not improve\n",
      "110s - loss: 0.2912 - acc: 0.7730 - val_loss: 0.2949 - val_acc: 0.7748\n",
      "Epoch 14/100\n",
      "Epoch 00013: val_loss did not improve\n",
      "110s - loss: 0.2884 - acc: 0.7754 - val_loss: 0.2975 - val_acc: 0.7789\n",
      "Epoch 15/100\n",
      "Epoch 00014: val_loss improved from 0.29311 to 0.29163, saving model to ./checkpoint/weights.014-0.2916.hdf5\n",
      "110s - loss: 0.2855 - acc: 0.7782 - val_loss: 0.2916 - val_acc: 0.7777\n",
      "Epoch 16/100\n",
      "Epoch 00015: val_loss improved from 0.29163 to 0.28918, saving model to ./checkpoint/weights.015-0.2892.hdf5\n",
      "110s - loss: 0.2835 - acc: 0.7803 - val_loss: 0.2892 - val_acc: 0.7813\n",
      "Epoch 17/100\n",
      "Epoch 00016: val_loss improved from 0.28918 to 0.28915, saving model to ./checkpoint/weights.016-0.2892.hdf5\n",
      "110s - loss: 0.2815 - acc: 0.7816 - val_loss: 0.2892 - val_acc: 0.7837\n",
      "Epoch 18/100\n",
      "Epoch 00017: val_loss did not improve\n",
      "110s - loss: 0.2791 - acc: 0.7835 - val_loss: 0.2913 - val_acc: 0.7830\n",
      "Epoch 19/100\n",
      "Epoch 00018: val_loss did not improve\n",
      "110s - loss: 0.2769 - acc: 0.7864 - val_loss: 0.2894 - val_acc: 0.7864\n",
      "Epoch 20/100\n",
      "Epoch 00019: val_loss improved from 0.28915 to 0.28266, saving model to ./checkpoint/weights.019-0.2827.hdf5\n",
      "110s - loss: 0.2753 - acc: 0.7877 - val_loss: 0.2827 - val_acc: 0.7795\n",
      "Epoch 21/100\n",
      "Epoch 00020: val_loss did not improve\n",
      "110s - loss: 0.2735 - acc: 0.7897 - val_loss: 0.2848 - val_acc: 0.7843\n",
      "Epoch 22/100\n",
      "Epoch 00021: val_loss did not improve\n",
      "110s - loss: 0.2719 - acc: 0.7912 - val_loss: 0.2865 - val_acc: 0.7894\n",
      "Epoch 23/100\n",
      "Epoch 00022: val_loss improved from 0.28266 to 0.28210, saving model to ./checkpoint/weights.022-0.2821.hdf5\n",
      "110s - loss: 0.2706 - acc: 0.7930 - val_loss: 0.2821 - val_acc: 0.7872\n",
      "Epoch 24/100\n",
      "Epoch 00023: val_loss did not improve\n",
      "110s - loss: 0.2688 - acc: 0.7943 - val_loss: 0.2877 - val_acc: 0.7927\n",
      "Epoch 25/100\n",
      "Epoch 00024: val_loss improved from 0.28210 to 0.28169, saving model to ./checkpoint/weights.024-0.2817.hdf5\n",
      "110s - loss: 0.2674 - acc: 0.7953 - val_loss: 0.2817 - val_acc: 0.7895\n",
      "Epoch 26/100\n",
      "Epoch 00025: val_loss improved from 0.28169 to 0.27978, saving model to ./checkpoint/weights.025-0.2798.hdf5\n",
      "110s - loss: 0.2660 - acc: 0.7969 - val_loss: 0.2798 - val_acc: 0.7826\n",
      "Epoch 27/100\n",
      "Epoch 00026: val_loss did not improve\n",
      "110s - loss: 0.2647 - acc: 0.7979 - val_loss: 0.2865 - val_acc: 0.7964\n",
      "Epoch 28/100\n",
      "Epoch 00027: val_loss did not improve\n",
      "110s - loss: 0.2632 - acc: 0.7987 - val_loss: 0.2822 - val_acc: 0.7901\n",
      "Epoch 29/100\n",
      "Epoch 00028: val_loss did not improve\n",
      "110s - loss: 0.2626 - acc: 0.7999 - val_loss: 0.2842 - val_acc: 0.7968\n",
      "Epoch 30/100\n",
      "Epoch 00029: val_loss did not improve\n",
      "110s - loss: 0.2610 - acc: 0.8016 - val_loss: 0.2873 - val_acc: 0.7985\n",
      "Epoch 31/100\n",
      "Epoch 00030: val_loss did not improve\n",
      "110s - loss: 0.2603 - acc: 0.8019 - val_loss: 0.2828 - val_acc: 0.7964\n",
      "Epoch 32/100\n",
      "Epoch 00031: val_loss did not improve\n",
      "110s - loss: 0.2583 - acc: 0.8037 - val_loss: 0.2824 - val_acc: 0.7944\n",
      "Epoch 00031: early stopping\n"
     ]
    },
    {
     "data": {
      "text/plain": [
       "<keras.callbacks.History at 0x7fe77d401cd0>"
      ]
     },
     "execution_count": 44,
     "metadata": {},
     "output_type": "execute_result"
    }
   ],
   "source": [
    "optimizer = Adam(lr=1e-3)\n",
    "model.compile(optimizer=optimizer, loss='binary_crossentropy', metrics=['accuracy'])\n",
    "\n",
    "callbacks = [EarlyStopping(monitor='val_loss', min_delta=0, patience=5, verbose=1),\n",
    "             ModelCheckpoint(filepath=CHECKPOINT_DIR+'weights.{epoch:03d}-{val_loss:.4f}.hdf5', monitor='val_loss', verbose=1, save_best_only=True),\n",
    "             TensorBoard(log_dir=LOG_DIR, histogram_freq=0, write_graph=False, write_images=True)]\n",
    "\n",
    "print('BATCH_SIZE:', BATCH_SIZE)\n",
    "model.fit({'q1': train_q1_Double, 'q2': train_q2_Double}, y_train_Double, \n",
    "          batch_size=BATCH_SIZE, epochs=100, verbose=2, callbacks=callbacks, \n",
    "          validation_data=({'q1': valid_q1_Double, 'q2': valid_q2_Double}, y_valid_Double, val_sample_weights), \n",
    "          shuffle=True, class_weight=class_weight, initial_epoch=0)"
   ]
  },
  {
   "cell_type": "raw",
   "metadata": {
    "collapsed": true,
    "deletable": true,
    "editable": true
   },
   "source": [
    "#resume training\n",
    "\n",
    "model, model_name = get_best_model()\n",
    "# model = load_model(CHECKPOINT_DIR + 'weights.025-0.4508.hdf5')\n",
    "# model_name = 'weights.025-0.4508.hdf5'\n",
    "# print('model_name', model_name)\n",
    "\n",
    "# #try increasing learningrate\n",
    "# optimizer = Adam(lr=1e-4)\n",
    "# model.compile(optimizer=optimizer, loss='binary_crossentropy', metrics=['accuracy'])\n",
    "\n",
    "# callbacks = [ReduceLROnPlateau(monitor='val_loss', factor=0.1, patience=5, verbose=1),\n",
    "#              EarlyStopping(monitor='val_loss', min_delta=0, patience=10, verbose=1),\n",
    "#              ModelCheckpoint(filepath=CHECKPOINT_DIR+'weights.{epoch:03d}-{val_loss:.4f}.hdf5', monitor='val_loss', verbose=1, save_best_only=True),\n",
    "#              TensorBoard(log_dir=LOG_DIR, histogram_freq=0, write_graph=False, write_images=True)]\n",
    "\n",
    "print('BATCH_SIZE:', BATCH_SIZE)\n",
    "model.fit({'q1': train_q1_Double, 'q2': train_q2_Double}, y_train_Double, \n",
    "          batch_size=BATCH_SIZE, epochs=100, verbose=2, callbacks=callbacks, \n",
    "          validation_data=({'q1': valid_q1_Double, 'q2': valid_q2_Double}, y_valid_Double, val_sample_weights), \n",
    "          shuffle=True, class_weight=class_weight, initial_epoch=)"
   ]
  },
  {
   "cell_type": "code",
   "execution_count": 38,
   "metadata": {
    "collapsed": false,
    "deletable": true,
    "editable": true
   },
   "outputs": [
    {
     "name": "stdout",
     "output_type": "stream",
     "text": [
      "model_name weights.022-0.2778.hdf5\n"
     ]
    },
    {
     "data": {
      "text/plain": [
       "[0.27775588646789434, 0.78547702802869745]"
      ]
     },
     "execution_count": 38,
     "metadata": {},
     "output_type": "execute_result"
    }
   ],
   "source": [
    "model = load_model(CHECKPOINT_DIR + 'weights.022-0.2778.hdf5')\n",
    "model_name = 'weights.022-0.2778.hdf5'\n",
    "print('model_name', model_name)\n",
    "val_loss = model.evaluate({'q1': valid_q1_Double, 'q2': valid_q2_Double}, y_valid_Double, sample_weight=val_sample_weights, batch_size=8192, verbose=2)\n",
    "val_loss"
   ]
  },
  {
   "cell_type": "code",
   "execution_count": 39,
   "metadata": {
    "collapsed": false,
    "deletable": true,
    "editable": true
   },
   "outputs": [
    {
     "name": "stdout",
     "output_type": "stream",
     "text": [
      "DataClean_weights.022-0.2778.hdf5_LSTM128*1_DENSE128*1_valloss0.2778.csv\n"
     ]
    }
   ],
   "source": [
    "#Create submission\n",
    "test_q1 = pad_sequences(tokenizer.texts_to_sequences(test_df['question1_WL']), maxlen = MAX_LEN)\n",
    "test_q2 = pad_sequences(tokenizer.texts_to_sequences(test_df['question2_WL']), maxlen = MAX_LEN)\n",
    "predictions = model.predict({'q1': test_q1, 'q2': test_q2}, batch_size=8192, verbose=2)\n",
    "predictions += model.predict({'q1': test_q2, 'q2': test_q1}, batch_size=8192, verbose=2)\n",
    "predictions /= 2\n",
    "\n",
    "submission = pd.DataFrame(predictions, columns=['is_duplicate'])\n",
    "submission.insert(0, 'test_id', test_df.test_id)\n",
    "file_name = MODEL+'_'+model_name+'_LSTM{:d}*{:d}_DENSE{:d}*{:d}_valloss{:.4f}.csv' \\\n",
    ".format(RNNCELL_SIZE,RNNCELL_LAYERS,DENSE_SIZE,DENSE_LAYERS,val_loss[0])\n",
    "submission.to_csv(OUTPUT_DIR+file_name, index=False)\n",
    "print(file_name)"
   ]
  },
  {
   "cell_type": "raw",
   "metadata": {
    "deletable": true,
    "editable": true
   },
   "source": [
    "sys.stdout = open(OUTPUT_DIR+'training_output.txt', 'a')\n",
    "history = model.fit({'q1': train_q1, 'q2': train_q2}, y_train, batch_size=BATCH_SIZE, epochs=3, verbose=2, callbacks=callbacks, \n",
    "                    validation_data=({'q1': valid_q1, 'q2': valid_q2}, y_valid), shuffle=True, initial_epoch=0)\n",
    "sys.stdout = sys.__stdout__"
   ]
  },
  {
   "cell_type": "raw",
   "metadata": {
    "deletable": true,
    "editable": true
   },
   "source": [
    "summary_stats = pd.DataFrame({'epoch': [ i + 1 for i in history.epoch ],\n",
    "                              'train_acc': history.history['acc'],\n",
    "                              'valid_acc': history.history['val_acc'],\n",
    "                              'train_loss': history.history['loss'],\n",
    "                              'valid_loss': history.history['val_loss']})\n",
    "summary_stats\n",
    "\n",
    "plt.plot(summary_stats.train_loss) # blue\n",
    "plt.plot(summary_stats.valid_loss) # green\n",
    "plt.show()"
   ]
  },
  {
   "cell_type": "raw",
   "metadata": {
    "deletable": true,
    "editable": true
   },
   "source": [
    "units = 128 # Number of nodes in the Dense layers\n",
    "dropout = 0.25 # Percentage of nodes to drop\n",
    "nb_filter = 32 # Number of filters to use in Convolution1D\n",
    "filter_length = 3 # Length of filter for Convolution1D\n",
    "# Initialize weights and biases for the Dense layers\n",
    "weights = initializers.TruncatedNormal(mean=0.0, stddev=0.05, seed=2)\n",
    "bias = bias_initializer='zeros'\n",
    "\n",
    "model1 = Sequential()\n",
    "model1.add(Embedding(nb_words + 1, EMBEDDING_DIM, weights=[word_embedding_matrix], input_length = MAX_LEN, trainable = False))\n",
    "model1.add(Convolution1D(filters=nb_filter, kernel_size=filter_length, padding='same'))\n",
    "model1.add(BatchNormalization())\n",
    "model1.add(Activation('relu'))\n",
    "model1.add(Dropout(dropout))\n",
    "model1.add(Convolution1D(filters=nb_filter, kernel_size=filter_length, padding='same'))\n",
    "model1.add(BatchNormalization())\n",
    "model1.add(Activation('relu'))\n",
    "model1.add(Dropout(dropout))\n",
    "model1.add(Flatten())\n",
    "\n",
    "\n",
    "model2 = Sequential()\n",
    "model2.add(Embedding(nb_words + 1, EMBEDDING_DIM, weights=[word_embedding_matrix], input_length = MAX_LEN, trainable = False))\n",
    "model2.add(Convolution1D(filters=nb_filter, kernel_size=filter_length, padding='same'))\n",
    "model2.add(BatchNormalization())\n",
    "model2.add(Activation('relu'))\n",
    "model2.add(Dropout(dropout))\n",
    "model2.add(Convolution1D(filters=nb_filter, kernel_size=filter_length, padding='same'))\n",
    "model2.add(BatchNormalization())\n",
    "model2.add(Activation('relu'))\n",
    "model2.add(Dropout(dropout))\n",
    "model2.add(Flatten())\n",
    "\n",
    "\n",
    "model3 = Sequential()\n",
    "model3.add(Embedding(nb_words + 1, EMBEDDING_DIM, weights=[word_embedding_matrix], input_length = MAX_LEN, trainable = False))\n",
    "model3.add(TimeDistributed(Dense(EMBEDDING_DIM)))\n",
    "model3.add(BatchNormalization())\n",
    "model3.add(Activation('relu'))\n",
    "model3.add(Dropout(dropout))\n",
    "model3.add(Lambda(lambda x: K.max(x, axis=1), output_shape=(EMBEDDING_DIM, )))\n",
    "\n",
    "\n",
    "model4 = Sequential()\n",
    "model4.add(Embedding(nb_words + 1, EMBEDDING_DIM, weights=[word_embedding_matrix], input_length = MAX_LEN, trainable = False))\n",
    "model4.add(TimeDistributed(Dense(EMBEDDING_DIM)))\n",
    "model4.add(BatchNormalization())\n",
    "model4.add(Activation('relu'))\n",
    "model4.add(Dropout(dropout))\n",
    "model4.add(Lambda(lambda x: K.max(x, axis=1), output_shape=(EMBEDDING_DIM, )))\n",
    "\n",
    "\n",
    "modela = Sequential()\n",
    "modela.add(Merge([model1, model2], mode='concat'))\n",
    "modela.add(Dense(units*2, kernel_initializer=weights, bias_initializer=bias))\n",
    "modela.add(BatchNormalization())\n",
    "modela.add(Activation('relu'))\n",
    "modela.add(Dropout(dropout))\n",
    "modela.add(Dense(units, kernel_initializer=weights, bias_initializer=bias))\n",
    "modela.add(BatchNormalization())\n",
    "modela.add(Activation('relu'))\n",
    "modela.add(Dropout(dropout))\n",
    "\n",
    "\n",
    "modelb = Sequential()\n",
    "modelb.add(Merge([model3, model4], mode='concat'))\n",
    "modelb.add(Dense(units*2, kernel_initializer=weights, bias_initializer=bias))\n",
    "modelb.add(BatchNormalization())\n",
    "modelb.add(Activation('relu'))\n",
    "modelb.add(Dropout(dropout))\n",
    "modelb.add(Dense(units, kernel_initializer=weights, bias_initializer=bias))\n",
    "modelb.add(BatchNormalization())\n",
    "modelb.add(Activation('relu'))\n",
    "modelb.add(Dropout(dropout))\n",
    "\n",
    "\n",
    "model = Sequential()\n",
    "model.add(Merge([modela, modelb], mode='concat'))\n",
    "model.add(Dense(units*2, kernel_initializer=weights, bias_initializer=bias))\n",
    "model.add(BatchNormalization())\n",
    "model.add(Activation('relu'))\n",
    "model.add(Dropout(dropout))\n",
    "model.add(Dense(units, kernel_initializer=weights, bias_initializer=bias))\n",
    "model.add(BatchNormalization())\n",
    "model.add(Activation('relu'))\n",
    "model.add(Dropout(dropout))\n",
    "model.add(Dense(units, kernel_initializer=weights, bias_initializer=bias))\n",
    "model.add(BatchNormalization())\n",
    "model.add(Activation('relu'))\n",
    "model.add(Dropout(dropout))\n",
    "model.add(Dense(1, kernel_initializer=weights, bias_initializer=bias))\n",
    "model.add(BatchNormalization())\n",
    "model.add(Activation('sigmoid'))"
   ]
  }
 ],
 "metadata": {
  "kernelspec": {
   "display_name": "Python 2",
   "language": "python",
   "name": "python2"
  },
  "language_info": {
   "codemirror_mode": {
    "name": "ipython",
    "version": 2
   },
   "file_extension": ".py",
   "mimetype": "text/x-python",
   "name": "python",
   "nbconvert_exporter": "python",
   "pygments_lexer": "ipython2",
   "version": "2.7.12"
  }
 },
 "nbformat": 4,
 "nbformat_minor": 2
}
